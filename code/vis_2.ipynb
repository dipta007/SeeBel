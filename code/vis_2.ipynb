{
 "cells": [
  {
   "cell_type": "code",
   "execution_count": 1,
   "metadata": {
    "tags": []
   },
   "outputs": [],
   "source": [
    "DATA_DIR = '../datasets/vis_2'"
   ]
  },
  {
   "cell_type": "code",
   "execution_count": 2,
   "metadata": {
    "tags": []
   },
   "outputs": [],
   "source": [
    "from __future__ import absolute_import\n",
    "from __future__ import division\n",
    "from __future__ import print_function\n",
    "import sys\n",
    "from mpl_toolkits.axes_grid1 import make_axes_locatable\n",
    "import os\n",
    "from PIL import Image \n",
    "import numpy as np\n",
    "import os\n",
    "from tqdm import tqdm\n",
    "import matplotlib as mpl\n",
    "import matplotlib.pyplot as plt\n",
    "import matplotlib.patches as mpatches\n",
    "import shutil\n",
    "import time\n",
    "import pickle\n",
    "import tqdm\n",
    "from csv import reader\n",
    "from functools import reduce\n",
    "import math\n",
    "from time import sleep\n",
    "from pathlib import Path\n",
    "import csv\n",
    "import itertools\n",
    "import random\n",
    "import gc\n",
    "import statistics\n",
    "import pandas as pd\n",
    "import logging\n",
    "import functools\n",
    "import warnings\n",
    "warnings.filterwarnings('ignore')\n",
    "warnings.simplefilter('ignore')\n",
    "import requests\n",
    "from matplotlib.widgets import Button\n",
    "from textwrap import wrap\n",
    "import matplotlib.gridspec as gridspec\n",
    "import ipywidgets as widgets\n",
    "from IPython.display import display\n",
    "from ipywidgets import widgets, interactive"
   ]
  },
  {
   "cell_type": "code",
   "execution_count": 3,
   "metadata": {
    "tags": []
   },
   "outputs": [],
   "source": [
    "class color:\n",
    "   PURPLE = '\\033[95m'\n",
    "   CYAN = '\\033[96m'\n",
    "   DARKCYAN = '\\033[36m'\n",
    "   BLUE = '\\033[94m'\n",
    "   GREEN = '\\033[92m'\n",
    "   YELLOW = '\\033[93m'\n",
    "   RED = '\\033[91m'\n",
    "   BOLD = '\\033[1m'\n",
    "   UNDERLINE = '\\033[4m'\n",
    "   END = '\\033[0m'"
   ]
  },
  {
   "cell_type": "code",
   "execution_count": 4,
   "metadata": {
    "tags": []
   },
   "outputs": [],
   "source": [
    "input_img = Image.open(f'{DATA_DIR}/input_img.png')\n",
    "with open(f'{DATA_DIR}/grad_cam_dict.pickle', 'rb') as f:\n",
    "    grad_cam_dict = pickle.load(f)"
   ]
  },
  {
   "cell_type": "code",
   "execution_count": 5,
   "metadata": {
    "tags": []
   },
   "outputs": [],
   "source": [
    "color_mapping_before_conversion = {\n",
    "     0 : (  0,  0,  0),\n",
    "     1 : (  0,  0,  0),\n",
    "     2 : (  0,  0,  0),\n",
    "     3 : (  0,  0,  0),\n",
    "     4 : (  0,  0,  0),\n",
    "     5 : (111, 74,  0),\n",
    "     6 : ( 81,  0, 81),\n",
    "     7 : (128, 64,128),\n",
    "     8 : (244, 35,232),\n",
    "     9 : (250,170,160),\n",
    "    10 : (230,150,140),\n",
    "    11 : ( 70, 70, 70),\n",
    "    12 : (102,102,156),\n",
    "    13 : (190,153,153),\n",
    "    14 : (180,165,180),\n",
    "    15 : (150,100,100),\n",
    "    16 : (150,120, 90),\n",
    "    17 : (153,153,153),\n",
    "    18 : (153,153,153),\n",
    "    19 : (250,170, 30),\n",
    "    20 : (220,220,  0),\n",
    "    21 : (107,142, 35),\n",
    "    22 : (152,251,152),\n",
    "    23 : ( 70,130,180),\n",
    "    24 : (220, 20, 60),\n",
    "    25 : (255,  0,  0),\n",
    "    26 : (  0,  0,142),\n",
    "    27 : (  0,  0, 70),\n",
    "    28 : (  0, 60,100),\n",
    "    29 : (  0,  0, 90),\n",
    "    30 : (  0,  0,110),\n",
    "    31 : (  0, 80,100),\n",
    "    32 : (  0,  0,230),\n",
    "    33 : (119, 11, 32),\n",
    "    -1 : (  0,  0,142)\n",
    "}"
   ]
  },
  {
   "cell_type": "code",
   "execution_count": 6,
   "metadata": {
    "tags": []
   },
   "outputs": [],
   "source": [
    "color_mapping_after_conversion = {\n",
    "     255 : (  0,  0,  0),\n",
    "     0 : (128, 64,128),\n",
    "     1 : (244, 35,232),\n",
    "     2 : ( 70, 70, 70),\n",
    "     3 : (102,102,156),\n",
    "     4 : (190,153,153),\n",
    "     5 : (153,153,153),\n",
    "     6 : (250,170, 30),\n",
    "     7 : (220,220,  0),\n",
    "     8 : (107,142, 35),\n",
    "     9 : (152,251,152),\n",
    "    10 : ( 70,130,180),\n",
    "    11 : (220, 20, 60),\n",
    "    12 : (255,  0,  0),\n",
    "    13 : (  0,  0,142),\n",
    "    14 : (  0,  0, 70),\n",
    "    15 : (  0, 60,100),\n",
    "    16 : (  0, 80,100),\n",
    "    17 : (  0,  0,230),\n",
    "    18 : (119, 11, 32)\n",
    "}"
   ]
  },
  {
   "cell_type": "code",
   "execution_count": 7,
   "metadata": {
    "tags": []
   },
   "outputs": [],
   "source": [
    "id2class_after_conversion = {\n",
    "     255 : \"unlabeled\",\n",
    "     0 : \"road\",\n",
    "     1 : \"sidewalk\",\n",
    "     2 : \"building\",\n",
    "     3 : \"wall\",\n",
    "     4 : \"fence\",\n",
    "     5 : \"pole\",\n",
    "     6 : \"tr. light\",\n",
    "     7 : \"tr. sign\",\n",
    "     8 : \"veg.\",\n",
    "     9 : \"terrain\",\n",
    "    10 : \"sky\",\n",
    "    11 : \"person\",\n",
    "    12 : \"rider\",\n",
    "    13 : \"car\",\n",
    "    14 : \"truck\",\n",
    "    15 : \"bus\",\n",
    "    16 : \"train\",\n",
    "    17 : \"m. cycle\",\n",
    "    18 : \"bicycle\"\n",
    "}"
   ]
  },
  {
   "cell_type": "code",
   "execution_count": 8,
   "metadata": {
    "tags": []
   },
   "outputs": [],
   "source": [
    "class2id_after_conversion = dict(map(reversed, id2class_after_conversion.items()))"
   ]
  },
  {
   "cell_type": "code",
   "execution_count": 9,
   "metadata": {
    "tags": []
   },
   "outputs": [],
   "source": [
    "def get_next_class_label(current_class_label = 'road'):\n",
    "    current_class_id = class2id_after_conversion[current_class_label]\n",
    "    current_class_id = (current_class_id+1)%NUM_CLASSES\n",
    "    new_class_label = id2class_after_conversion[current_class_id]\n",
    "    return new_class_label"
   ]
  },
  {
   "cell_type": "code",
   "execution_count": 10,
   "metadata": {
    "tags": []
   },
   "outputs": [],
   "source": [
    "label_mask = class2id_after_conversion.keys()\n",
    "labels = list(set(label_mask))\n",
    "labels.remove(\"unlabeled\")\n",
    "cmaps = ['turbo', 'Paired', 'nipy_spectral', 'viridis', 'rainbow']"
   ]
  },
  {
   "cell_type": "code",
   "execution_count": 11,
   "metadata": {
    "tags": []
   },
   "outputs": [],
   "source": [
    "def plot_cam_image(class_label, input_img, grad_cam, axs, ax, fig, cmap='turbo'):\n",
    "    \n",
    "    axs.imshow(input_img, alpha=1.0)\n",
    "    bar2show = axs.imshow(grad_cam, alpha=0.5, cmap=cmap)\n",
    "    \n",
    "    divider = make_axes_locatable(axs)\n",
    "    cax = divider.new_horizontal(size=\"5%\", pad=0.1)\n",
    "    fig.add_axes(cax)\n",
    "    \n",
    "    cbar = plt.colorbar(bar2show, cax=cax)\n",
    "    cbar.set_label(label=f'GRAD-CAM Weights ({cmap})', fontsize = 8, color='black', rotation=90)\n",
    "    \n",
    "    display_string = \"Current Object: \" + class_label\n",
    "    padding = \" \"*(30-len(display_string))\n",
    "    display_string = padding + display_string + padding\n",
    "    fig.text(0.38, 0.85, display_string, fontsize=10, bbox={'facecolor': 'blue', 'alpha': 0.5})"
   ]
  },
  {
   "cell_type": "code",
   "execution_count": 12,
   "metadata": {
    "tags": []
   },
   "outputs": [],
   "source": [
    "def cam_vis(class_label='road', cmap='turbo'):\n",
    "    global input_img\n",
    "    \n",
    "    fig,ax=plt.subplots(ncols=2, nrows=1, figsize=(9,3))\n",
    "    fig.patch.set_facecolor('skyblue')\n",
    "    fig.patch.set_alpha(0.6)\n",
    "    fig.dpi = 150\n",
    "    \n",
    "    ax[0].imshow(input_img, extent=[0, 1024, 0, 470])\n",
    "    ax[0].set_xlabel('Input Image')\n",
    "    ax[1].set_xlabel(f'Grad-CAM for: {class_label}')\n",
    "    ax[0].set_xticks([])\n",
    "    ax[1].set_xticks([])\n",
    "    ax[0].set_yticks([])\n",
    "    ax[1].set_yticks([])\n",
    "    \n",
    "    current_class_label = class_label\n",
    "    plot_cam_image(current_class_label, input_img, grad_cam_dict[class_label], \n",
    "                   ax[1], ax, fig, cmap=cmap)\n",
    "    \n",
    "    # Hover Code\n",
    "    annot = ax[1].annotate(\"\", xy=(0,0), xytext=(5,5), textcoords=\"offset points\", color='white')\n",
    "    annot.set_visible(False)\n",
    "    \n",
    "    def on_hover(event):\n",
    "        if event.inaxes == ax[1]:\n",
    "            annot.xy = (event.xdata, event.ydata)\n",
    "            x, y = event.xdata, event.ydata\n",
    "            x, y = int(x), int(y)\n",
    "            x, y = x, y-512\n",
    "            annot.set_text(f\"{grad_cam_dict[class_label][y][x]:.2f}\")\n",
    "            annot.set_visible(True)\n",
    "        else:\n",
    "            annot.set_visible(False)\n",
    "\n",
    "    cid = fig.canvas.mpl_connect('motion_notify_event', on_hover)\n",
    "    \n",
    "    plt.show()"
   ]
  },
  {
   "cell_type": "markdown",
   "metadata": {},
   "source": [
    "### Categorical cmaps:\n",
    "1. Paired\n",
    "2. nipy_spectral\n",
    "### Sequential cmaps:\n",
    "1. viridis\n",
    "2. turbo\n",
    "\n",
    "### A BAD BAD cmap:\n",
    "* rainbow\n",
    "\n",
    "### Suggested one: turbo"
   ]
  },
  {
   "cell_type": "code",
   "execution_count": 13,
   "metadata": {
    "tags": []
   },
   "outputs": [
    {
     "data": {
      "application/vnd.jupyter.widget-view+json": {
       "model_id": "3096a186b94944ebab1941313bf41e02",
       "version_major": 2,
       "version_minor": 0
      },
      "text/plain": [
       "interactive(children=(Dropdown(description='Object:', options=('road', 'bus', 'terrain', 'tr. sign', 'm. cycle…"
      ]
     },
     "execution_count": 13,
     "metadata": {},
     "output_type": "execute_result"
    }
   ],
   "source": [
    "%matplotlib widget\n",
    "\n",
    "class_dropdown = widgets.Dropdown(options=labels, \n",
    "                            value='road', \n",
    "                            description='Object:')\n",
    "cmap_dropdown = widgets.Dropdown(options=cmaps, \n",
    "                            value='turbo', \n",
    "                            description='Colormap:')\n",
    "\n",
    "interactive(cam_vis, class_label=class_dropdown, cmap=cmap_dropdown)"
   ]
  },
  {
   "cell_type": "code",
   "execution_count": null,
   "metadata": {
    "tags": []
   },
   "outputs": [],
   "source": []
  }
 ],
 "metadata": {
  "kernelspec": {
   "display_name": "Python 3 (ipykernel)",
   "language": "python",
   "name": "python3"
  },
  "language_info": {
   "codemirror_mode": {
    "name": "ipython",
    "version": 3
   },
   "file_extension": ".py",
   "mimetype": "text/x-python",
   "name": "python",
   "nbconvert_exporter": "python",
   "pygments_lexer": "ipython3",
   "version": "3.7.16"
  }
 },
 "nbformat": 4,
 "nbformat_minor": 4
}
